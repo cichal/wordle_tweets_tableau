{
 "cells": [
  {
   "cell_type": "markdown",
   "id": "6b77867f",
   "metadata": {},
   "source": [
    "# Pull Wordle Tweets\n",
    "\n",
    "This notebook pulls a sample of tweets about the current daily [Wordle](https://www.powerlanguage.co.uk/wordle/) and adds them to the dataset."
   ]
  },
  {
   "cell_type": "markdown",
   "id": "60ee1853",
   "metadata": {},
   "source": [
    "## Package installs and imports"
   ]
  },
  {
   "cell_type": "code",
   "execution_count": null,
   "id": "e24afc76",
   "metadata": {},
   "outputs": [],
   "source": [
    "pip install tweepy numpy pandas python-dotenv"
   ]
  },
  {
   "cell_type": "code",
   "execution_count": null,
   "id": "9665465b",
   "metadata": {},
   "outputs": [],
   "source": [
    "from collections import Counter\n",
    "from datetime import datetime\n",
    "import numpy as np\n",
    "import os\n",
    "import pandas as pd\n",
    "import pytz\n",
    "import re\n",
    "import time\n",
    "import tweepy\n",
    "from dotenv import load_dotenv"
   ]
  },
  {
   "cell_type": "markdown",
   "id": "c562c247",
   "metadata": {},
   "source": [
    "## Configuration secrets\n",
    "\n",
    "You will need to use your own Twitter API key to run the Twitter portion of this code. "
   ]
  },
  {
   "cell_type": "code",
   "execution_count": null,
   "id": "b93baec1",
   "metadata": {},
   "outputs": [],
   "source": [
    "load_dotenv()\n",
    "\n",
    "api_key = os.getenv('twitter_api_key')\n",
    "api_secret = os.getenv('twitter_api_secret')\n",
    "access_token = os.getenv('twitter_access_token')\n",
    "access_secret = os.getenv('twitter_access_secret')\n",
    "\n",
    "auth = tweepy.OAuthHandler(api_key, api_secret)\n",
    "auth.set_access_token(access_token, access_secret)\n",
    "\n",
    "api = tweepy.API(auth)"
   ]
  },
  {
   "cell_type": "markdown",
   "id": "9ef861a6",
   "metadata": {},
   "source": [
    "## Determining our daily Wordle Id"
   ]
  },
  {
   "cell_type": "code",
   "execution_count": null,
   "id": "588f8be2",
   "metadata": {},
   "outputs": [],
   "source": [
    "wordle_start = pytz.timezone(\"US/Mountain\").localize(datetime(2021, 6, 19))\n",
    "now = pytz.utc.localize(datetime.now()).astimezone(pytz.timezone(\"US/Pacific\"))\n",
    "\n",
    "wordle_id = (now-wordle_start).days\n",
    "print(\"Today's wordle_id is: %d (%s)\" % (wordle_id, now.strftime(\"%Y-%m-%d %H:%M PT\")))"
   ]
  },
  {
   "cell_type": "markdown",
   "id": "6c2705c5",
   "metadata": {},
   "source": [
    "## Pulling the tweets"
   ]
  },
  {
   "cell_type": "code",
   "execution_count": null,
   "id": "1ebf68ef",
   "metadata": {},
   "outputs": [],
   "source": [
    "wordle_tweets = []\n",
    "\n",
    "cursor = tweepy.Cursor(api.search_tweets, q=\"wordle %d\" % wordle_id)\n",
    "tweets = list(cursor.items(5000))\n",
    "for tweet in tweets:\n",
    "    wordle_tweets.append((wordle_id, tweet.id, tweet.created_at, tweet.author.screen_name, tweet.text))\n",
    "\n",
    "print(\"Pulled %d tweets for wordle %d\" % (len(wordle_tweets), wordle_id))"
   ]
  },
  {
   "cell_type": "markdown",
   "id": "c2939aa5",
   "metadata": {},
   "source": [
    "## Determine valid Wordle tweets "
   ]
  },
  {
   "cell_type": "code",
   "execution_count": null,
   "id": "8a15e98f",
   "metadata": {},
   "outputs": [],
   "source": [
    "def is_valid_wordle_tweet(tweet, wordle_id): \n",
    "    text = (tweet.replace(\"Y\", \"y\").replace(\"🟩\", \"Y\")\n",
    "                 .replace(\"M\", \"m\").replace(\"🟨\", \"M\")\n",
    "                 .replace(\"N\", \"n\").replace(\"⬛\", \"N\").replace(\"⬜\", \"N\"))\n",
    "    \n",
    "    for i in range(wordle_id-20, wordle_id+20):\n",
    "        if i==wordle_id:\n",
    "            continue\n",
    "        if str(i) in text:\n",
    "            return False\n",
    "    \n",
    "    if len(re.findall(\"Wordle %d\" % wordle_id, text)) != 1:\n",
    "        return False\n",
    "\n",
    "    if re.match(\"Wordle %d [2-6]/6\\n\\n[YMN]{5}\\n\" % wordle_id, text) is None:\n",
    "        return False\n",
    "    return True        "
   ]
  },
  {
   "cell_type": "markdown",
   "id": "3753c951",
   "metadata": {},
   "source": [
    "## Enter valid Tweets into new_tweets_df"
   ]
  },
  {
   "cell_type": "code",
   "execution_count": null,
   "id": "d3f2cb60",
   "metadata": {},
   "outputs": [],
   "source": [
    "new_tweets_df = pd.DataFrame([tweet for tweet in wordle_tweets if is_valid_wordle_tweet(tweet[4], tweet[0])],\n",
    "                             columns=[\"wordle_id\", \"tweet_id\", \"tweet_date\", \"tweet_username\", \"tweet_text\"])\n",
    "new_tweets_df"
   ]
  },
  {
   "cell_type": "markdown",
   "id": "7030395c",
   "metadata": {},
   "source": [
    "## Break tweets into individual guesses and count of green tiles\n"
   ]
  },
  {
   "cell_type": "code",
   "execution_count": null,
   "id": "41f01584",
   "metadata": {},
   "outputs": [],
   "source": [
    "df_2 = new_tweets_df['tweet_text'].str.split('\\n\\n', expand=True)\n",
    "\n",
    "mapping = {df_2.columns[1]:'guess'}\n",
    "df_2 = df_2.rename(columns=mapping)\n",
    "\n",
    "df_2.head(50)"
   ]
  },
  {
   "cell_type": "code",
   "execution_count": null,
   "id": "f08c3223",
   "metadata": {},
   "outputs": [],
   "source": [
    "guesses_df = df_2['guess'].str.split('\\n', expand=True)\n",
    "mapping = {guesses_df.columns[0]:'g1', guesses_df.columns[1]:'g2',\n",
    "           guesses_df.columns[2]:'g3', guesses_df.columns[3]:'g4',\n",
    "           guesses_df.columns[4]:'g5', guesses_df.columns[5]:'g6'}\n",
    "guesses_df = guesses_df.rename(columns=mapping)\n",
    "guesses_df.head(50)"
   ]
  },
  {
   "cell_type": "code",
   "execution_count": null,
   "id": "bae09510",
   "metadata": {},
   "outputs": [],
   "source": [
    "guess_list_1 = guesses_df['g1'].str.count(\"🟩\")\n",
    "guess_list_2 = guesses_df['g2'].str.count(\"🟩\")\n",
    "guess_list_3 = guesses_df['g3'].str.count(\"🟩\")\n",
    "guess_list_4 = guesses_df['g4'].str.count(\"🟩\")\n",
    "guess_list_5 = guesses_df['g5'].str.count(\"🟩\")\n",
    "guess_list_6 = guesses_df['g6'].str.count(\"🟩\")\n",
    "tweets_df['g1'] = guess_list_1\n",
    "tweets_df['g2'] = guess_list_2\n",
    "tweets_df['g3'] = guess_list_3\n",
    "tweets_df['g4'] = guess_list_4\n",
    "tweets_df['g5'] = guess_list_5\n",
    "tweets_df['g6'] = guess_list_6\n",
    "tweets_df.head(50)"
   ]
  },
  {
   "cell_type": "markdown",
   "id": "466f40f0",
   "metadata": {},
   "source": [
    "## Load the previously pulled tweets"
   ]
  },
  {
   "cell_type": "code",
   "execution_count": null,
   "id": "385db3eb",
   "metadata": {},
   "outputs": [],
   "source": [
    "previous_df = pd.read_csv(\"input/tweets.csv\", engine='python')\n",
    "previous_df"
   ]
  },
  {
   "cell_type": "markdown",
   "id": "83df2922",
   "metadata": {},
   "source": [
    "## Append the new ones"
   ]
  },
  {
   "cell_type": "code",
   "execution_count": null,
   "id": "1a8abd4c",
   "metadata": {},
   "outputs": [],
   "source": [
    "df = (pd.concat([previous_df,tweets_df])\n",
    "      .drop_duplicates(subset=\"tweet_id\")\n",
    "      .sort_values([\"wordle_id\", \"tweet_id\"])\n",
    "      .reset_index(drop=True))\n",
    "df"
   ]
  },
  {
   "cell_type": "markdown",
   "id": "2080ae64",
   "metadata": {},
   "source": [
    "## Save the new version of the dataset"
   ]
  },
  {
   "cell_type": "code",
   "execution_count": null,
   "id": "ed50eb22",
   "metadata": {},
   "outputs": [],
   "source": [
    "if not os.path.exists(\"updated\"):\n",
    "    os.mkdir(\"updated\")\n",
    "\n",
    "df.to_csv(\"updated/tweets.csv\", index=False)"
   ]
  }
 ],
 "metadata": {
  "kernelspec": {
   "display_name": "Python 3 (ipykernel)",
   "language": "python",
   "name": "python3"
  },
  "language_info": {
   "codemirror_mode": {
    "name": "ipython",
    "version": 3
   },
   "file_extension": ".py",
   "mimetype": "text/x-python",
   "name": "python",
   "nbconvert_exporter": "python",
   "pygments_lexer": "ipython3",
   "version": "3.9.9"
  }
 },
 "nbformat": 4,
 "nbformat_minor": 5
}
